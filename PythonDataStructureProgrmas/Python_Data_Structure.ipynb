{
 "cells": [
  {
   "cell_type": "markdown",
   "metadata": {},
   "source": [
    "## Arrays"
   ]
  },
  {
   "cell_type": "markdown",
   "metadata": {},
   "source": [
    "1. Write a Python program to create an array of 5 integers and display the array items.Access individual element through indexes."
   ]
  },
  {
   "cell_type": "code",
   "execution_count": 1,
   "metadata": {},
   "outputs": [
    {
     "name": "stdout",
     "output_type": "stream",
     "text": [
      "1\n",
      "2\n",
      "3\n",
      "4\n",
      "5\n"
     ]
    }
   ],
   "source": [
    "integerArray = [1,2,3,4,5]\n",
    "for i in range(len(integerArray)):\n",
    "    print(integerArray[i])"
   ]
  },
  {
   "cell_type": "markdown",
   "metadata": {},
   "source": [
    "2. Write a Python program to reverse the order of the items in the array."
   ]
  },
  {
   "cell_type": "code",
   "execution_count": 2,
   "metadata": {},
   "outputs": [
    {
     "name": "stdout",
     "output_type": "stream",
     "text": [
      "[5, 4, 3, 2, 1]\n"
     ]
    }
   ],
   "source": [
    "integerArray = [1,2,3,4,5]\n",
    "print(integerArray[::-1])"
   ]
  },
  {
   "cell_type": "markdown",
   "metadata": {},
   "source": [
    "3. Write a Python program to get the number of occurrences of a specified element in an array."
   ]
  },
  {
   "cell_type": "code",
   "execution_count": 3,
   "metadata": {},
   "outputs": [
    {
     "name": "stdout",
     "output_type": "stream",
     "text": [
      "Enter the key element: 4\n",
      "4 has occurred 1 times.\n"
     ]
    }
   ],
   "source": [
    "integerArray = [1,2,2,4,5]\n",
    "try:\n",
    "    key = int(input('Enter the key element: '))\n",
    "except ValueError:\n",
    "    print(\"Please enter an integer type data.\")\n",
    "    \n",
    "count = 0\n",
    "for i in integerArray:\n",
    "    if i == key:\n",
    "        count += 1\n",
    "print(f\"{key} has occurred {count} times.\")"
   ]
  },
  {
   "cell_type": "markdown",
   "metadata": {},
   "source": [
    "4. Write a Python program to remove the first occurrence of a specified element from an\n",
    "array."
   ]
  },
  {
   "cell_type": "code",
   "execution_count": 4,
   "metadata": {},
   "outputs": [
    {
     "name": "stdout",
     "output_type": "stream",
     "text": [
      "New arrary: [10, 22, 12, 5]\n"
     ]
    }
   ],
   "source": [
    "integerArray = [10,12,22,12,5]\n",
    "integerArray.remove(12)\n",
    "print(f\"New arrary: {integerArray}\")"
   ]
  },
  {
   "cell_type": "markdown",
   "metadata": {},
   "source": [
    "## Dictionary"
   ]
  },
  {
   "cell_type": "markdown",
   "metadata": {},
   "source": [
    "1. Write a Python script to sort (ascending and descending) a dictionary by value."
   ]
  },
  {
   "cell_type": "code",
   "execution_count": 5,
   "metadata": {},
   "outputs": [
    {
     "name": "stdout",
     "output_type": "stream",
     "text": [
      "Sorted by values in Ascending Order: [(2, 10), (1, 20), (4, 50), (3, 100)]\n"
     ]
    }
   ],
   "source": [
    "sampleDict = {3:100, 1:20, 2:10, 4:50}\n",
    "print(f\"Sorted by values in Ascending Order: {sorted(sampleDict.items(), key=lambda x:x[1])}\")"
   ]
  },
  {
   "cell_type": "code",
   "execution_count": 6,
   "metadata": {},
   "outputs": [
    {
     "name": "stdout",
     "output_type": "stream",
     "text": [
      "Sorted by values in Ascending Order: [(3, 100), (4, 50), (1, 20), (2, 10)]\n"
     ]
    }
   ],
   "source": [
    "print(f\"Sorted by values in Ascending Order: {sorted(sampleDict.items(), key=lambda x:x[1], reverse=True)}\")"
   ]
  },
  {
   "cell_type": "markdown",
   "metadata": {},
   "source": [
    "2. Write a Python script to add a key to a dictionary."
   ]
  },
  {
   "cell_type": "code",
   "execution_count": 7,
   "metadata": {},
   "outputs": [
    {
     "name": "stdout",
     "output_type": "stream",
     "text": [
      "New Dictionary: {0: 10, 1: 20, 2: 30}\n"
     ]
    }
   ],
   "source": [
    "sampleDict = {0: 10, 1: 20}\n",
    "sampleDict[2] = 30\n",
    "print(f\"New Dictionary: {sampleDict}\")"
   ]
  },
  {
   "cell_type": "markdown",
   "metadata": {},
   "source": [
    "3. Write a Python script to concatenate following dictionaries to create a new one."
   ]
  },
  {
   "cell_type": "code",
   "execution_count": 8,
   "metadata": {},
   "outputs": [
    {
     "name": "stdout",
     "output_type": "stream",
     "text": [
      "Result: {1: 10, 2: 20, 3: 30, 4: 40, 5: 50, 6: 60}\n"
     ]
    }
   ],
   "source": [
    "dic1 = {1:10, 2:20}\n",
    "dic2 = {3:30, 4:40}\n",
    "dic3 = {5:50,6:60}\n",
    "\n",
    "# Defined new dictionary\n",
    "newDict = dict()\n",
    "\n",
    "# concatination\n",
    "newDict.update(dic1)\n",
    "newDict.update(dic2)\n",
    "newDict.update(dic3)\n",
    "\n",
    "print(f\"Result: {newDict}\")"
   ]
  },
  {
   "cell_type": "markdown",
   "metadata": {},
   "source": [
    "4. Write a Python program to iterate over dictionaries using for loops."
   ]
  },
  {
   "cell_type": "code",
   "execution_count": 9,
   "metadata": {},
   "outputs": [
    {
     "name": "stdout",
     "output_type": "stream",
     "text": [
      "key: 3, value: 100\n",
      "key: 1, value: 20\n",
      "key: 2, value: 10\n",
      "key: 4, value: 50\n"
     ]
    }
   ],
   "source": [
    "sampleDict = {3:100, 1:20, 2:10, 4:50}\n",
    "\n",
    "# iterating over dictionary\n",
    "for key, value in sampleDict.items():\n",
    "    print(f\"key: {key}, value: {value}\")"
   ]
  },
  {
   "cell_type": "markdown",
   "metadata": {},
   "source": [
    "5. Write a Python script to generate and print a dictionary that contains a number (between 1 and n)\n",
    "in the form (x, x*x)."
   ]
  },
  {
   "cell_type": "code",
   "execution_count": 10,
   "metadata": {},
   "outputs": [
    {
     "name": "stdout",
     "output_type": "stream",
     "text": [
      "Enter the number till where you generate squares: 6\n",
      "Result: {1: 1, 2: 4, 3: 9, 4: 16, 5: 25, 6: 36}\n"
     ]
    }
   ],
   "source": [
    "try:\n",
    "    number = int(input(\"Enter the number till where you generate squares: \"))\n",
    "except ValueError:\n",
    "    print(\"Please enter an integer.\")\n",
    "\n",
    "squareDict = {key:key**2 for key in range(1, number+1)}\n",
    "print(f\"Result: {squareDict}\")"
   ]
  },
  {
   "cell_type": "markdown",
   "metadata": {},
   "source": [
    "6. Write a Python program to remove a key from a dictionary."
   ]
  },
  {
   "cell_type": "code",
   "execution_count": 66,
   "metadata": {},
   "outputs": [
    {
     "name": "stdout",
     "output_type": "stream",
     "text": [
      "{1: 1, 2: 4, 4: 16, 5: 25}\n"
     ]
    }
   ],
   "source": [
    "squareDict = {1: 1, 2: 4, 3: 9, 4: 16, 5: 25}\n",
    "del squareDict[3]\n",
    "print(squareDict)"
   ]
  },
  {
   "cell_type": "markdown",
   "metadata": {},
   "source": [
    "7. Write a Python program to print all unique values in a dictionary."
   ]
  },
  {
   "cell_type": "code",
   "execution_count": 12,
   "metadata": {},
   "outputs": [
    {
     "name": "stdout",
     "output_type": "stream",
     "text": [
      "Result: {'S005', 'S001', 'S002', 'S009', 'S007'}\n"
     ]
    }
   ],
   "source": [
    "sampleDict = {1:\"S001\", 2: \"S002\", 3: \"S001\", 4: \"S005\", 5:\"S005\", 6:\"S009\", 7:\"S007\"}\n",
    "print(f\"Result: {set(sampleDict.values())}\")"
   ]
  },
  {
   "cell_type": "markdown",
   "metadata": {},
   "source": [
    "8. Write a Python program to create a dictionary from a string."
   ]
  },
  {
   "cell_type": "code",
   "execution_count": 13,
   "metadata": {},
   "outputs": [
    {
     "name": "stdout",
     "output_type": "stream",
     "text": [
      "String Dictionary: {'w': 1, '3': 1, 'r': 2, 'e': 2, 's': 1, 'o': 1, 'u': 1, 'c': 1}\n"
     ]
    }
   ],
   "source": [
    "sampleString = 'w3resource'\n",
    "stringDict= dict()\n",
    "\n",
    "for char in sampleString:\n",
    "    if char in stringDict.keys():\n",
    "        stringDict[char] += 1\n",
    "    else:\n",
    "        stringDict[char] = 1\n",
    "\n",
    "print(f\"String Dictionary: {stringDict}\")"
   ]
  },
  {
   "cell_type": "markdown",
   "metadata": {},
   "source": [
    "9. Write a Python program to print a dictionary in table format."
   ]
  },
  {
   "cell_type": "code",
   "execution_count": 65,
   "metadata": {},
   "outputs": [
    {
     "name": "stdout",
     "output_type": "stream",
     "text": [
      "Key: Value\n",
      " w :   1\n",
      " 3 :   1\n",
      " r :   2\n",
      " e :   2\n",
      " s :   1\n",
      " o :   1\n",
      " u :   1\n",
      " c :   1\n"
     ]
    }
   ],
   "source": [
    "sampleDict = {'w': 1, '3': 1, 'r': 2, 'e': 2, 's': 1, 'o': 1, 'u': 1, 'c': 1}\n",
    "\n",
    "print(\"Key: Value\")\n",
    "for key, value in sampleDict.items():\n",
    "    print(f\" {key} :   {value}\")"
   ]
  },
  {
   "cell_type": "markdown",
   "metadata": {},
   "source": [
    "10. Write a Python program to count the values associated with key in a dictionary."
   ]
  },
  {
   "cell_type": "code",
   "execution_count": 15,
   "metadata": {},
   "outputs": [
    {
     "name": "stdout",
     "output_type": "stream",
     "text": [
      "Total TRUE success count : 2\n"
     ]
    }
   ],
   "source": [
    "sampleList = [{'id': 1, 'success': True, 'name': 'Lary'},\n",
    "              {'id': 2, 'success': False, 'name':'Rabi'},\n",
    "              {'id': 3, 'success': True, 'name': 'Alex'}]\n",
    "\n",
    "trueSuccessCount = 0\n",
    "for subDict in sampleList:\n",
    "    for key, values in subDict.items():\n",
    "        if (key == 'success' and values == True):\n",
    "            trueSuccessCount += 1\n",
    "\n",
    "print(f\"Total TRUE success count : {trueSuccessCount}\")"
   ]
  },
  {
   "cell_type": "markdown",
   "metadata": {},
   "source": [
    "11. Write a Python program to convert a list into a nested dictionary of keys."
   ]
  },
  {
   "cell_type": "code",
   "execution_count": null,
   "metadata": {},
   "outputs": [],
   "source": []
  },
  {
   "cell_type": "markdown",
   "metadata": {},
   "source": [
    "12. Write a Python program to check multiple keys exists in a dictionary."
   ]
  },
  {
   "cell_type": "code",
   "execution_count": null,
   "metadata": {},
   "outputs": [],
   "source": []
  },
  {
   "cell_type": "markdown",
   "metadata": {},
   "source": [
    "13. Write a Python program to count number of items in a dictionary value that is a list."
   ]
  },
  {
   "cell_type": "code",
   "execution_count": 64,
   "metadata": {},
   "outputs": [
    {
     "name": "stdout",
     "output_type": "stream",
     "text": [
      "SampleDict have 3 list as value.\n"
     ]
    }
   ],
   "source": [
    "sampleDict = {1:[\"S001\", \"S002\"],\n",
    "              2: \"S002\",\n",
    "              3: \"S001\",\n",
    "              4: [\"S004\", \"S002\"],\n",
    "              5:\"S005\",\n",
    "              6:\"S009\",\n",
    "              7:[\"S004\", \"S009\"]}\n",
    "\n",
    "listCount = 0\n",
    "for value in sampleDict.values():\n",
    "    if isinstance(value, list):\n",
    "        listCount += 1\n",
    "print(f\"SampleDict have {listCount} list as value.\")"
   ]
  },
  {
   "cell_type": "markdown",
   "metadata": {},
   "source": [
    "## Sets"
   ]
  },
  {
   "cell_type": "markdown",
   "metadata": {},
   "source": [
    "1. Write a Python program to create a set."
   ]
  },
  {
   "cell_type": "code",
   "execution_count": 17,
   "metadata": {},
   "outputs": [
    {
     "name": "stdout",
     "output_type": "stream",
     "text": [
      "Result: {1, 2, 4, 8, 9}\n"
     ]
    }
   ],
   "source": [
    "sampleSet = set([9,8,2,4,8,1,9,2,4,9])\n",
    "print(f\"Result: {sampleSet}\")"
   ]
  },
  {
   "cell_type": "markdown",
   "metadata": {},
   "source": [
    "2. Write a Python program to iteration over sets."
   ]
  },
  {
   "cell_type": "code",
   "execution_count": 18,
   "metadata": {},
   "outputs": [
    {
     "name": "stdout",
     "output_type": "stream",
     "text": [
      "1\n",
      "2\n",
      "4\n",
      "8\n",
      "9\n"
     ]
    }
   ],
   "source": [
    "sampleSet = {1, 2, 4, 8, 9}\n",
    "\n",
    "for element in sampleSet:\n",
    "    print(element)"
   ]
  },
  {
   "cell_type": "markdown",
   "metadata": {},
   "source": [
    "3. Write a Python program to add member(s) in a set."
   ]
  },
  {
   "cell_type": "code",
   "execution_count": 19,
   "metadata": {},
   "outputs": [
    {
     "name": "stdout",
     "output_type": "stream",
     "text": [
      "{1, 2, 4, 5, 8, 9}\n"
     ]
    }
   ],
   "source": [
    "sampleSet = {1, 2, 4, 8, 9}\n",
    "sampleSet.add(5)\n",
    "print(sampleSet)"
   ]
  },
  {
   "cell_type": "code",
   "execution_count": 20,
   "metadata": {},
   "outputs": [
    {
     "name": "stdout",
     "output_type": "stream",
     "text": [
      "{1, 2, 3, 4, 5, 8, 9}\n"
     ]
    }
   ],
   "source": [
    "# adding members\n",
    "sampleSet.update([2,5,3])\n",
    "print(sampleSet)"
   ]
  },
  {
   "cell_type": "markdown",
   "metadata": {},
   "source": [
    "4. Write a Python program to remove item(s) from set"
   ]
  },
  {
   "cell_type": "code",
   "execution_count": 21,
   "metadata": {},
   "outputs": [
    {
     "name": "stdout",
     "output_type": "stream",
     "text": [
      "{1, 2, 4, 5, 8, 9}\n"
     ]
    }
   ],
   "source": [
    "sampleSet = {1, 2, 3, 4, 5, 8, 9}\n",
    "sampleSet.remove(3)\n",
    "print(sampleSet)"
   ]
  },
  {
   "cell_type": "code",
   "execution_count": 22,
   "metadata": {},
   "outputs": [
    {
     "name": "stdout",
     "output_type": "stream",
     "text": [
      "{3, 4, 5, 8}\n"
     ]
    }
   ],
   "source": [
    "# multiple delete\n",
    "sampleSet = {1, 2, 3, 4, 5, 8, 9}\n",
    "sampleSet.difference_update([1,2,9])\n",
    "print(sampleSet)"
   ]
  },
  {
   "cell_type": "markdown",
   "metadata": {},
   "source": [
    "5. Write a Python program to remove an item from a set if it is present in the set."
   ]
  },
  {
   "cell_type": "code",
   "execution_count": 23,
   "metadata": {},
   "outputs": [
    {
     "name": "stdout",
     "output_type": "stream",
     "text": [
      "{1, 2, 4, 5, 8, 9}\n"
     ]
    }
   ],
   "source": [
    "sampleSet = {1, 2, 3, 4, 5, 8, 9}\n",
    "sampleSet.discard(3)\n",
    "sampleSet.discard(10)\n",
    "print(sampleSet)"
   ]
  },
  {
   "cell_type": "markdown",
   "metadata": {},
   "source": [
    "6. Write a Python program to create an intersection of sets."
   ]
  },
  {
   "cell_type": "code",
   "execution_count": 24,
   "metadata": {},
   "outputs": [
    {
     "name": "stdout",
     "output_type": "stream",
     "text": [
      "{5}\n"
     ]
    }
   ],
   "source": [
    "set1 = set({1,3,5,7,9})\n",
    "set2 = set({2,4,5,6,8})\n",
    "print(set1.intersection(set2))"
   ]
  },
  {
   "cell_type": "markdown",
   "metadata": {},
   "source": [
    "7. Write a Python program to create a union of sets."
   ]
  },
  {
   "cell_type": "code",
   "execution_count": 62,
   "metadata": {},
   "outputs": [
    {
     "name": "stdout",
     "output_type": "stream",
     "text": [
      "{1, 2, 3, 4, 5, 6, 7, 8, 9}\n"
     ]
    }
   ],
   "source": [
    "set1 = set({1,3,5,7,9})\n",
    "set2 = set({2,4,5,6,8})\n",
    "print(set1.union(set2))"
   ]
  },
  {
   "cell_type": "markdown",
   "metadata": {},
   "source": [
    "8. Write a Python program to create set difference."
   ]
  },
  {
   "cell_type": "code",
   "execution_count": 63,
   "metadata": {},
   "outputs": [
    {
     "name": "stdout",
     "output_type": "stream",
     "text": [
      "{1, 3, 9, 7}\n"
     ]
    }
   ],
   "source": [
    "set1 = set({1,3,5,7,9})\n",
    "set2 = set({2,4,5,6,8})\n",
    "print(set1.difference(set2))"
   ]
  },
  {
   "cell_type": "markdown",
   "metadata": {},
   "source": [
    "9. Write a Python program to create a symmetric difference."
   ]
  },
  {
   "cell_type": "code",
   "execution_count": 27,
   "metadata": {},
   "outputs": [
    {
     "name": "stdout",
     "output_type": "stream",
     "text": [
      "{1, 2, 3, 4, 6, 7, 8, 9}\n"
     ]
    }
   ],
   "source": [
    "set1 = set({1,3,5,7,9})\n",
    "set2 = set({2,4,5,6,8})\n",
    "print(set1.symmetric_difference(set2))"
   ]
  },
  {
   "cell_type": "markdown",
   "metadata": {},
   "source": [
    "10. Write a Python program to clear a set."
   ]
  },
  {
   "cell_type": "code",
   "execution_count": 28,
   "metadata": {},
   "outputs": [
    {
     "name": "stdout",
     "output_type": "stream",
     "text": [
      "set1: {1, 3, 5, 7, 9}\n",
      "set1: set()\n"
     ]
    }
   ],
   "source": [
    "set1 = set({1,3,5,7,9})\n",
    "print(f\"set1: {set1}\")\n",
    "set1.clear()\n",
    "print(f\"set1: {set1}\")"
   ]
  },
  {
   "cell_type": "markdown",
   "metadata": {},
   "source": [
    "11. Write a Python program to use of frozensets."
   ]
  },
  {
   "cell_type": "code",
   "execution_count": 29,
   "metadata": {},
   "outputs": [
    {
     "name": "stdout",
     "output_type": "stream",
     "text": [
      "frozenset({1, 3, 5, 7, 9})\n"
     ]
    }
   ],
   "source": [
    "set1 = frozenset({1,3,5,7,9})\n",
    "print(set1)"
   ]
  },
  {
   "cell_type": "markdown",
   "metadata": {},
   "source": [
    "12. Write a Python program to find maximum and the minimum value in a set."
   ]
  },
  {
   "cell_type": "code",
   "execution_count": 30,
   "metadata": {},
   "outputs": [
    {
     "name": "stdout",
     "output_type": "stream",
     "text": [
      "Values: {1, 3, 5, 7, 9}\n",
      "Maximum value: 9\n",
      "Minimum value: 1\n"
     ]
    }
   ],
   "source": [
    "set1 = set({1,3,5,7,9})\n",
    "print(f\"Values: {set1}\")\n",
    "print(f\"Maximum value: {max(set1)}\")\n",
    "print(f\"Minimum value: {min(set1)}\")"
   ]
  },
  {
   "cell_type": "markdown",
   "metadata": {},
   "source": [
    "## List"
   ]
  },
  {
   "cell_type": "markdown",
   "metadata": {},
   "source": [
    "1. Write a Python program to sum all the items in a list."
   ]
  },
  {
   "cell_type": "code",
   "execution_count": 31,
   "metadata": {},
   "outputs": [
    {
     "name": "stdout",
     "output_type": "stream",
     "text": [
      "Sum of list elements: 21\n"
     ]
    }
   ],
   "source": [
    "sampleList = [1,2,3,5,4,6]\n",
    "print(f\"Sum of list elements: {sum(sampleList)}\")"
   ]
  },
  {
   "cell_type": "markdown",
   "metadata": {},
   "source": [
    "2. Write a Python program to multiplies all the items in a list."
   ]
  },
  {
   "cell_type": "code",
   "execution_count": 32,
   "metadata": {},
   "outputs": [
    {
     "name": "stdout",
     "output_type": "stream",
     "text": [
      "Product of list elements: 720\n"
     ]
    }
   ],
   "source": [
    "from functools import reduce\n",
    "sampleList = [1,2,3,5,4,6]\n",
    "product = reduce((lambda x,y: x*y), sampleList)\n",
    "print(f\"Product of list elements: {product}\")"
   ]
  },
  {
   "cell_type": "markdown",
   "metadata": {},
   "source": [
    "3. Write a Python program to get the smallest number from a list."
   ]
  },
  {
   "cell_type": "code",
   "execution_count": 33,
   "metadata": {},
   "outputs": [
    {
     "name": "stdout",
     "output_type": "stream",
     "text": [
      "Smallest of list elements: 1\n"
     ]
    }
   ],
   "source": [
    "sampleList = [1,2,3,5,4,6]\n",
    "print(f\"Smallest of list elements: {min(sampleList)}\")"
   ]
  },
  {
   "cell_type": "markdown",
   "metadata": {},
   "source": [
    "4. Write a Python program to count the number of strings where the string length is 2 or more and the first and last character are same from a given list of strings."
   ]
  },
  {
   "cell_type": "code",
   "execution_count": 34,
   "metadata": {},
   "outputs": [
    {
     "name": "stdout",
     "output_type": "stream",
     "text": [
      "Result: 2\n"
     ]
    }
   ],
   "source": [
    "sampleList = ['abc', 'xyz', 'aba', '1221']\n",
    "resultCount = 0\n",
    "\n",
    "for element in sampleList:\n",
    "    if element[0] == element[-1] and len(element)>2:\n",
    "        resultCount += 1\n",
    "print(f\"Result: {resultCount}\")"
   ]
  },
  {
   "cell_type": "markdown",
   "metadata": {},
   "source": [
    "5. Write a Python program to get a list, sorted in increasing order by the last element in each tuple from a given list of non-empty tuples."
   ]
  },
  {
   "cell_type": "code",
   "execution_count": 35,
   "metadata": {},
   "outputs": [
    {
     "name": "stdout",
     "output_type": "stream",
     "text": [
      "Sorted on 2nd element: [(2, 1), (1, 2), (2, 3), (4, 4), (2, 5)] \n"
     ]
    }
   ],
   "source": [
    "sampleList = [(2, 5), (1, 2), (4, 4), (2, 3), (2, 1)]\n",
    "print(f\"Sorted on 2nd element: {sorted(sampleList, key=lambda x:x[1])} \")"
   ]
  },
  {
   "cell_type": "markdown",
   "metadata": {},
   "source": [
    "6. Write a Python program to remove duplicates from a list."
   ]
  },
  {
   "cell_type": "code",
   "execution_count": 36,
   "metadata": {},
   "outputs": [
    {
     "name": "stdout",
     "output_type": "stream",
     "text": [
      "Distinct elements: [9, 2, 3, 1]\n"
     ]
    }
   ],
   "source": [
    "sampleList = [9,3,2,1,3,2,3,1]\n",
    "print(f\"Distinct elements: {list(set(sampleList))}\")"
   ]
  },
  {
   "cell_type": "markdown",
   "metadata": {},
   "source": [
    "7. Write a Python program to clone or copy a list."
   ]
  },
  {
   "cell_type": "code",
   "execution_count": 37,
   "metadata": {},
   "outputs": [
    {
     "name": "stdout",
     "output_type": "stream",
     "text": [
      "sampleList   id: 2110332196808 and content: [1, 2, 3, 5, 4, 6]\n",
      "sampleList_1 id: 2110332142280 and content: [1, 2, 3, 5, 4, 6]\n"
     ]
    }
   ],
   "source": [
    "sampleList = [1,2,3,5,4,6]\n",
    "sampleList_1 = sampleList.copy()\n",
    "print(f\"sampleList   id: {id(sampleList)} and content: {sampleList}\")\n",
    "print(f\"sampleList_1 id: {id(sampleList_1)} and content: {sampleList_1}\")"
   ]
  },
  {
   "cell_type": "markdown",
   "metadata": {},
   "source": [
    "8. Write a Python program to find the list of words that are longer than n from a given list of words."
   ]
  },
  {
   "cell_type": "code",
   "execution_count": null,
   "metadata": {},
   "outputs": [],
   "source": []
  },
  {
   "cell_type": "markdown",
   "metadata": {},
   "source": [
    "9. Write a Python function that takes two lists and returns True if they have at least one common member."
   ]
  },
  {
   "cell_type": "code",
   "execution_count": 38,
   "metadata": {},
   "outputs": [
    {
     "name": "stdout",
     "output_type": "stream",
     "text": [
      "True\n"
     ]
    }
   ],
   "source": [
    "# function to check atlest one common element\n",
    "def common(list1, list2):\n",
    "    for element in list1:\n",
    "        if element in list2:\n",
    "            return True\n",
    "\n",
    "sampleList_1 = [1,2,3,5,4,6]\n",
    "sampleList_2 = [3,8,7]\n",
    "\n",
    "print(common(sampleList_1, sampleList_2))"
   ]
  },
  {
   "cell_type": "markdown",
   "metadata": {},
   "source": [
    "10. Write a Python program to print a specified list after removing the 0th, 4th and 5th elements."
   ]
  },
  {
   "cell_type": "code",
   "execution_count": 39,
   "metadata": {},
   "outputs": [
    {
     "name": "stdout",
     "output_type": "stream",
     "text": [
      "Result: ['Green', 'White', 'Black']\n"
     ]
    }
   ],
   "source": [
    "sampleList = ['Red', 'Green', 'White', 'Black', 'Pink', 'Yellow']\n",
    "indexlist = [0,4,5]\n",
    "elementAtIndex = [sampleList[i] for i in indexlist]\n",
    "\n",
    "for element in elementAtIndex:\n",
    "    sampleList.remove(element)\n",
    "\n",
    "print(f\"Result: {sampleList}\")"
   ]
  },
  {
   "cell_type": "markdown",
   "metadata": {},
   "source": [
    "11. Write a Python program to generate all permutations of a list in Python."
   ]
  },
  {
   "cell_type": "code",
   "execution_count": 40,
   "metadata": {},
   "outputs": [
    {
     "name": "stdout",
     "output_type": "stream",
     "text": [
      "[(1, 2, 3), (1, 3, 2), (2, 1, 3), (2, 3, 1), (3, 1, 2), (3, 2, 1)]\n"
     ]
    }
   ],
   "source": [
    "import itertools\n",
    "\n",
    "sampleList = [1,2,3]\n",
    "allPermutation = list(itertools.permutations(sampleList))\n",
    "print(allPermutation)"
   ]
  },
  {
   "cell_type": "markdown",
   "metadata": {},
   "source": [
    "12. Write a Python program to get the difference between the two lists."
   ]
  },
  {
   "cell_type": "code",
   "execution_count": 41,
   "metadata": {},
   "outputs": [
    {
     "name": "stdout",
     "output_type": "stream",
     "text": [
      "[1, 2, 4, 5, 6]\n"
     ]
    }
   ],
   "source": [
    "sampleList_1 = [1,2,3,5,4,6]\n",
    "sampleList_2 = [3,8,7]\n",
    "\n",
    "print(list(set(sampleList_1) - set(sampleList_2)))"
   ]
  },
  {
   "cell_type": "markdown",
   "metadata": {},
   "source": [
    "13. Write a Python program to append a list to the second list."
   ]
  },
  {
   "cell_type": "code",
   "execution_count": 46,
   "metadata": {},
   "outputs": [
    {
     "name": "stdout",
     "output_type": "stream",
     "text": [
      "[1, 2, 3, 5, 4, 6, [3, 8, 7]]\n"
     ]
    }
   ],
   "source": [
    "sampleList_1 = [1,2,3,5,4,6]\n",
    "sampleList_2 = [3,8,7]\n",
    "\n",
    "sampleList_1.append(sampleList_2)\n",
    "print(sampleList_1)"
   ]
  },
  {
   "cell_type": "markdown",
   "metadata": {},
   "source": [
    "14. Write a python program to check whether two lists are circularly identical."
   ]
  },
  {
   "cell_type": "code",
   "execution_count": null,
   "metadata": {},
   "outputs": [],
   "source": []
  },
  {
   "cell_type": "markdown",
   "metadata": {},
   "source": [
    "15. Write a Python program to find common items from two lists."
   ]
  },
  {
   "cell_type": "code",
   "execution_count": 48,
   "metadata": {},
   "outputs": [
    {
     "name": "stdout",
     "output_type": "stream",
     "text": [
      "Common elements are: [3, 5]\n"
     ]
    }
   ],
   "source": [
    "sampleList_1 = [1,2,3,5,4,6]\n",
    "sampleList_2 = [3,5,7]\n",
    "\n",
    "print(f\"Common elements are: {list(set(sampleList_1) & set(sampleList_2))}\")"
   ]
  },
  {
   "cell_type": "markdown",
   "metadata": {},
   "source": [
    "16. Write a Python program to split a list based on first character of word."
   ]
  },
  {
   "cell_type": "code",
   "execution_count": 50,
   "metadata": {},
   "outputs": [
    {
     "name": "stdout",
     "output_type": "stream",
     "text": [
      "a\n",
      "apple\n",
      "aeroplane\n",
      "axe\n",
      "--------\n",
      "c\n",
      "cat\n",
      "cut\n",
      "--------\n",
      "b\n",
      "box\n",
      "--------\n"
     ]
    }
   ],
   "source": [
    "sampleList = ['apple', 'aeroplane', 'box', 'cat', 'axe', 'cut']\n",
    "firstLetterSet = set([element[0] for element in sampleList])\n",
    "\n",
    "for firstLetter in firstLetterSet:\n",
    "    print(firstLetter)\n",
    "    for element in sampleList:\n",
    "        if element[0] == firstLetter:\n",
    "            print(element)\n",
    "    print('--------')"
   ]
  },
  {
   "cell_type": "markdown",
   "metadata": {},
   "source": [
    "17. Write a Python program to remove duplicates from a list of lists."
   ]
  },
  {
   "cell_type": "code",
   "execution_count": 67,
   "metadata": {},
   "outputs": [
    {
     "name": "stdout",
     "output_type": "stream",
     "text": [
      "[[10, 20], [40], [30, 56, 25], [10, 20], [33], [40]]\n"
     ]
    }
   ],
   "source": [
    "import itertools\n",
    "\n",
    "sampleList = [[10, 20], [40], [30, 56, 25], [10, 20], [33], [40]]\n",
    "newList = list(element for element, g in itertools.groupby(sampleList))\n",
    "print(newList)"
   ]
  },
  {
   "cell_type": "markdown",
   "metadata": {},
   "source": [
    "## Tuples"
   ]
  },
  {
   "cell_type": "markdown",
   "metadata": {},
   "source": [
    "1. Write a Python program to create a tuple."
   ]
  },
  {
   "cell_type": "code",
   "execution_count": 71,
   "metadata": {},
   "outputs": [
    {
     "name": "stdout",
     "output_type": "stream",
     "text": [
      "(1, 2, 3, 4)\n"
     ]
    }
   ],
   "source": [
    "sampleTuple = (1,2,3,4)\n",
    "print(sampleTuple)"
   ]
  },
  {
   "cell_type": "markdown",
   "metadata": {},
   "source": [
    "2. Write a Python program to create a tuple with different data types."
   ]
  },
  {
   "cell_type": "code",
   "execution_count": 80,
   "metadata": {},
   "outputs": [
    {
     "name": "stdout",
     "output_type": "stream",
     "text": [
      "(1, 'a', True, 4.8)\n"
     ]
    }
   ],
   "source": [
    "sampleTuple = (1,'a',True,4.8)\n",
    "print(sampleTuple)"
   ]
  },
  {
   "cell_type": "markdown",
   "metadata": {},
   "source": [
    "3. Write a Python program to unpack a tuple in several variables."
   ]
  },
  {
   "cell_type": "code",
   "execution_count": 79,
   "metadata": {},
   "outputs": [
    {
     "name": "stdout",
     "output_type": "stream",
     "text": [
      "Integer : 1\n",
      "Character : a\n",
      "Boolean : True\n",
      "Float : 4.8\n"
     ]
    }
   ],
   "source": [
    "sampleTuple = (1,'a',True,4.8)\n",
    "integer, character, boolean, floatNum = sampleTuple\n",
    "print(f\"Integer : {integer}\")\n",
    "print(f\"Character : {character}\")\n",
    "print(f\"Boolean : {boolean}\")\n",
    "print(f\"Float : {floatNum}\")"
   ]
  },
  {
   "cell_type": "markdown",
   "metadata": {},
   "source": [
    "4. Write a Python program to create the colon of a tuple."
   ]
  },
  {
   "cell_type": "code",
   "execution_count": null,
   "metadata": {},
   "outputs": [],
   "source": [
    "\n"
   ]
  },
  {
   "cell_type": "markdown",
   "metadata": {},
   "source": [
    "5. Write a Python program to find the repeated items of a tuple."
   ]
  },
  {
   "cell_type": "code",
   "execution_count": 75,
   "metadata": {},
   "outputs": [
    {
     "name": "stdout",
     "output_type": "stream",
     "text": [
      "2\n"
     ]
    }
   ],
   "source": [
    "sampleTuple = (1,2,3,4,2,4,3,2,1)\n",
    "print(sampleTuple.count(4))"
   ]
  },
  {
   "cell_type": "markdown",
   "metadata": {},
   "source": [
    "6. Write a Python program to check whether an element exists within a tuple."
   ]
  },
  {
   "cell_type": "code",
   "execution_count": 78,
   "metadata": {},
   "outputs": [
    {
     "name": "stdout",
     "output_type": "stream",
     "text": [
      "Enter the number you want to search: 5\n",
      "5 is not present in (1, 2, 3, 4, 2, 4, 3, 2, 1).\n"
     ]
    }
   ],
   "source": [
    "try:\n",
    "    number = int(input(\"Enter the number you want to search: \"))\n",
    "except ValueError:\n",
    "    print(\"Please enter an integer number.\")\n",
    "\n",
    "sampleTuple = (1,2,3,4,2,4,3,2,1)\n",
    "\n",
    "if sampleTuple.count(number) == 0:\n",
    "    print(f\"{number} is not present in {sampleTuple}.\")\n",
    "else:\n",
    "    print(f\"{number} is present in {sampleTuple}.\")"
   ]
  },
  {
   "cell_type": "markdown",
   "metadata": {},
   "source": [
    "7. Write a Python program to convert a list to a tuple."
   ]
  },
  {
   "cell_type": "code",
   "execution_count": 81,
   "metadata": {},
   "outputs": [
    {
     "name": "stdout",
     "output_type": "stream",
     "text": [
      "(1, 2, 3, 5, 4, 6)\n"
     ]
    }
   ],
   "source": [
    "sampleList = [1,2,3,5,4,6]\n",
    "sampleTuple = tuple(sampleList)\n",
    "print(sampleTuple)"
   ]
  },
  {
   "cell_type": "markdown",
   "metadata": {},
   "source": [
    "8. Write a Python program to remove an item from a tuple."
   ]
  },
  {
   "cell_type": "code",
   "execution_count": 84,
   "metadata": {},
   "outputs": [
    {
     "name": "stdout",
     "output_type": "stream",
     "text": [
      "(1, 2, 3, 2, 4, 3, 2, 1)\n"
     ]
    }
   ],
   "source": [
    "sampleTuple = (1,2,3,4,2,4,3,2,1)\n",
    "sampleList = list(sampleTuple)\n",
    "sampleList.remove(4)\n",
    "sampleTuple = tuple(sampleList)\n",
    "print(sampleTuple)"
   ]
  },
  {
   "cell_type": "markdown",
   "metadata": {},
   "source": [
    "9. Write a Python program to slice a tuple."
   ]
  },
  {
   "cell_type": "code",
   "execution_count": 85,
   "metadata": {},
   "outputs": [
    {
     "name": "stdout",
     "output_type": "stream",
     "text": [
      "(2, 3, 4)\n"
     ]
    }
   ],
   "source": [
    "sampleTuple = (1,2,3,4,2,4,3,2,1)\n",
    "print(sampleTuple[1:4])"
   ]
  },
  {
   "cell_type": "markdown",
   "metadata": {},
   "source": [
    "10. Write a Python program to reverse a tuple."
   ]
  },
  {
   "cell_type": "code",
   "execution_count": 87,
   "metadata": {},
   "outputs": [
    {
     "name": "stdout",
     "output_type": "stream",
     "text": [
      "Reverse of the tuple: (4, 2, 4, 3, 2, 1)\n"
     ]
    }
   ],
   "source": [
    "sampleTuple = (1,2,3,4,2,4)\n",
    "print(f\"Reverse of the tuple: {sampleTuple[::-1]}\")"
   ]
  },
  {
   "cell_type": "markdown",
   "metadata": {},
   "source": [
    "## Strings"
   ]
  },
  {
   "cell_type": "markdown",
   "metadata": {},
   "source": [
    "1. Write a Python program to calculate the length of a string."
   ]
  },
  {
   "cell_type": "code",
   "execution_count": 88,
   "metadata": {},
   "outputs": [
    {
     "name": "stdout",
     "output_type": "stream",
     "text": [
      "Length of string: 5\n"
     ]
    }
   ],
   "source": [
    "sampleString = 'abcde'\n",
    "print(f\"Length of string: {len(sampleString)}\")"
   ]
  },
  {
   "cell_type": "markdown",
   "metadata": {},
   "source": [
    "2. Write a Python program to count the number of characters (character frequency) in a string."
   ]
  },
  {
   "cell_type": "code",
   "execution_count": 91,
   "metadata": {},
   "outputs": [
    {
     "name": "stdout",
     "output_type": "stream",
     "text": [
      "Result: {'g': 2, 'o': 3, 'l': 1, 'e': 1, '.': 1, 'c': 1, 'm': 1}\n"
     ]
    }
   ],
   "source": [
    "sampleString = 'google.com'\n",
    "charCountDict = dict()\n",
    "\n",
    "for element in sampleString:\n",
    "    if element not in charCountDict.keys():\n",
    "        charCountDict[element] = 1\n",
    "    else:\n",
    "        charCountDict[element] += 1\n",
    "\n",
    "print(f\"Result: {charCountDict}\")"
   ]
  },
  {
   "cell_type": "markdown",
   "metadata": {},
   "source": [
    "3. Write a Python program to get a string from a given string where all occurrences of its first char have been changed to $, except the first char itself."
   ]
  },
  {
   "cell_type": "code",
   "execution_count": 96,
   "metadata": {},
   "outputs": [
    {
     "name": "stdout",
     "output_type": "stream",
     "text": [
      "Enter a string: restart\n",
      "resta$t\n"
     ]
    }
   ],
   "source": [
    "try:\n",
    "    sampleString = input(\"Enter a string: \")\n",
    "except ValueError:\n",
    "    print(\"Please enter valid string.\")\n",
    "\n",
    "changeSymbol = '$'\n",
    "sampleList = list(sampleString)\n",
    "newString = sampleString[0]\n",
    "for element in range(1,len(sampleString)):\n",
    "    if sampleList[0] == sampleList[element]:\n",
    "        sampleList[element] = changeSymbol\n",
    "    newString += sampleList[element]\n",
    "\n",
    "print(newString)\n",
    "        "
   ]
  },
  {
   "cell_type": "markdown",
   "metadata": {},
   "source": [
    "4. Write a Python program to add 'ing' at the end of a given string (length should be at least 3). If the given string already ends with 'ing' then add 'ly' instead. If the string length of the given string is less than 3, leave it unchanged."
   ]
  },
  {
   "cell_type": "code",
   "execution_count": 102,
   "metadata": {},
   "outputs": [
    {
     "name": "stdout",
     "output_type": "stream",
     "text": [
      "Enter a word: sing\n",
      "singly\n"
     ]
    }
   ],
   "source": [
    "try:\n",
    "    sampleString = input(\"Enter a word: \")\n",
    "except ValueError:\n",
    "    print(\"Please enter valid word.\")\n",
    "\n",
    "suffix = ['ing', 'ly']\n",
    "\n",
    "if len(sampleString) >= 3 :\n",
    "    if sampleString[-3:] != 'ing':\n",
    "        sampleString += suffix[0]\n",
    "    else:\n",
    "        sampleString += suffix[1]\n",
    "\n",
    "print(sampleString)"
   ]
  },
  {
   "cell_type": "markdown",
   "metadata": {},
   "source": [
    "5. Write a Python function that takes a list of words and returns the length of the longest one."
   ]
  },
  {
   "cell_type": "code",
   "execution_count": 103,
   "metadata": {},
   "outputs": [
    {
     "name": "stdout",
     "output_type": "stream",
     "text": [
      "RedGreenWhiteBlackPinkYellow\n"
     ]
    }
   ],
   "source": [
    "sampleList = ['Red', 'Green', 'White', 'Black', 'Pink', 'Yellow']\n",
    "newString = ''\n",
    "\n",
    "for i in sampleList:\n",
    "    newString += i\n",
    "\n",
    "print(newString)"
   ]
  },
  {
   "cell_type": "markdown",
   "metadata": {},
   "source": [
    "6. Write a Python script that takes input from the user and displays that input back in upper and lower cases."
   ]
  },
  {
   "cell_type": "code",
   "execution_count": 105,
   "metadata": {},
   "outputs": [
    {
     "name": "stdout",
     "output_type": "stream",
     "text": [
      "Enter a word: PyThon\n",
      "Lower case : python\n",
      "Upper case : PYTHON\n"
     ]
    }
   ],
   "source": [
    "try:\n",
    "    sampleString = input(\"Enter a word: \")\n",
    "except ValueError:\n",
    "    print(\"Please enter valid word.\")\n",
    "\n",
    "print(f\"Lower case : {sampleString.lower()}\")\n",
    "print(f\"Upper case : {sampleString.upper()}\")"
   ]
  },
  {
   "cell_type": "markdown",
   "metadata": {},
   "source": [
    "7. Write a Python program that accepts a comma separated sequence of words as input and prints the unique words in sorted form (alphanumerically)."
   ]
  },
  {
   "cell_type": "code",
   "execution_count": 112,
   "metadata": {},
   "outputs": [
    {
     "name": "stdout",
     "output_type": "stream",
     "text": [
      "Enter a list of words separeted by comma : red,white,black,red,green,black\n",
      "New String: black,green,red,white\n"
     ]
    }
   ],
   "source": [
    "try:\n",
    "    sampleWords = list(set([word for word in input(\"Enter a list of words separeted by comma : \").split(',')]))\n",
    "except ValueError:\n",
    "    print(\"Please enter valid word.\")\n",
    "\n",
    "newString = ''\n",
    "for word in sorted(sampleWords):\n",
    "    newString += word+','\n",
    "\n",
    "# removing last comma\n",
    "newString = newString[:-1]\n",
    "\n",
    "print(f\"New String: {newString}\")"
   ]
  },
  {
   "cell_type": "markdown",
   "metadata": {},
   "source": [
    "8. Write a Python program to get the last part of a string before a specified character."
   ]
  },
  {
   "cell_type": "code",
   "execution_count": 114,
   "metadata": {},
   "outputs": [
    {
     "name": "stdout",
     "output_type": "stream",
     "text": [
      "Enter a word: https://www.w3resource.com/python-exercises\n",
      "Enter split char: -\n",
      "Result: https://www.w3resource.com/python\n"
     ]
    }
   ],
   "source": [
    "try:\n",
    "    sampleString = input(\"Enter a word: \")\n",
    "    splitChar = input(\"Enter split char: \")\n",
    "except ValueError:\n",
    "    print(\"Please enter valid word.\")\n",
    "\n",
    "divideTwo = sampleString.split(splitChar)\n",
    "print(f\"Result: {divideTwo[0]}\")"
   ]
  },
  {
   "cell_type": "markdown",
   "metadata": {},
   "source": [
    "9. Write a Python program to display formatted text (width=50) as output."
   ]
  },
  {
   "cell_type": "code",
   "execution_count": 116,
   "metadata": {},
   "outputs": [
    {
     "name": "stdout",
     "output_type": "stream",
     "text": [
      "Enter your text: If you use this site regularly and would like to help keep the site on the Internet, please consider donating a small sum to help pay for the hosting and bandwidth bill. There is no minimum donation, any sum is appreciated.\n",
      "Text within 50 character:\n",
      "If you use this site regularly and would like to he\n"
     ]
    }
   ],
   "source": [
    "try:\n",
    "    sampleText = input(\"Enter your text: \")\n",
    "except ValueError:\n",
    "    print(\"Please enter valid word.\")\n",
    "\n",
    "print(f\"Text within 50 character:\\n{sampleText[:51]}\")"
   ]
  },
  {
   "cell_type": "markdown",
   "metadata": {},
   "source": [
    "10. Write a Python program to count occurrences of a substring in a string."
   ]
  },
  {
   "cell_type": "code",
   "execution_count": 117,
   "metadata": {},
   "outputs": [
    {
     "name": "stdout",
     "output_type": "stream",
     "text": [
      "Enter a string: the quick brown fox jumps over the lazy dog.\n",
      "Enter the sub-string: the\n",
      "Sub-String count is : 2\n"
     ]
    }
   ],
   "source": [
    "try:\n",
    "    sampleString = input(\"Enter a string: \")\n",
    "    sampleSubstring = input(\"Enter the sub-string: \")\n",
    "except ValueError:\n",
    "    print(\"Please enter valid word.\")\n",
    "\n",
    "print(f\"Sub-String count is : {sampleString.count(sampleSubstring)}\")"
   ]
  },
  {
   "cell_type": "markdown",
   "metadata": {},
   "source": [
    "11. Write a Python program to reverse a string."
   ]
  },
  {
   "cell_type": "code",
   "execution_count": 120,
   "metadata": {},
   "outputs": [
    {
     "name": "stdout",
     "output_type": "stream",
     "text": [
      "Enter a string: the quick brown fox jumps over the lazy dog\n",
      "Reverse String : god yzal eht revo spmuj xof nworb kciuq eht\n"
     ]
    }
   ],
   "source": [
    "try:\n",
    "    sampleString = input(\"Enter a string: \")\n",
    "except ValueError:\n",
    "    print(\"Please enter valid word.\")\n",
    "\n",
    "print(f\"Reverse String : {sampleString[::-1]}\")"
   ]
  },
  {
   "cell_type": "markdown",
   "metadata": {},
   "source": [
    "12. Write a Python program to lowercase first n characters in a string."
   ]
  },
  {
   "cell_type": "code",
   "execution_count": 122,
   "metadata": {},
   "outputs": [
    {
     "name": "stdout",
     "output_type": "stream",
     "text": [
      "aamir SHAHAB\n"
     ]
    }
   ],
   "source": [
    "n = 6\n",
    "sampleString = 'AamIR SHAHAB'\n",
    "print(sampleString[:n].lower()+sampleString[n:])"
   ]
  },
  {
   "cell_type": "markdown",
   "metadata": {},
   "source": [
    "## Basic Python"
   ]
  },
  {
   "cell_type": "markdown",
   "metadata": {},
   "source": [
    "1. Write a Python program which accepts the user's first and last name and print them in reverse order with a space between them."
   ]
  },
  {
   "cell_type": "code",
   "execution_count": 1,
   "metadata": {},
   "outputs": [
    {
     "name": "stdout",
     "output_type": "stream",
     "text": [
      "Enter your first name: Aamir\n",
      "Enter your lastname: Shahab\n",
      "rimaA bahahS\n"
     ]
    }
   ],
   "source": [
    "class ReverseName:\n",
    "\n",
    "    # Defining the init method\n",
    "    def __init__(self,firstName,lastname):\n",
    "        self.firstName = firstName\n",
    "        self.lastName = lastname\n",
    "\n",
    "    # Method to reverse text\n",
    "    def reverseText(text):\n",
    "        return text[::-1]\n",
    "\n",
    "    # Method to split and merge\n",
    "    def mergeName(self):\n",
    "        print(ReverseName.reverseText(self.firstName)+\" \"+ReverseName.reverseText(self.lastName))\n",
    "\n",
    "if __name__ == \"__main__\":\n",
    "    firstName = input(\"Enter your first name: \")\n",
    "    lastName = input(\"Enter your lastname: \")\n",
    "    nameObject = ReverseName(firstName, lastName)\n",
    "    nameObject.mergeName()\n"
   ]
  },
  {
   "cell_type": "markdown",
   "metadata": {},
   "source": [
    "2. Write a Python program which accepts a sequence of comma-separated numbers from user and generate a list and a tuple with those numbers."
   ]
  },
  {
   "cell_type": "code",
   "execution_count": 2,
   "metadata": {},
   "outputs": [
    {
     "name": "stdout",
     "output_type": "stream",
     "text": [
      "Enter comma separated numbers: 1,2,3,4,5\n",
      "List :[1, 2, 3, 4, 5]\n",
      "Tuples :(1, 2, 3, 4, 5)\n"
     ]
    }
   ],
   "source": [
    "try:\n",
    "    sampleList = [int(element) for element in input(\"Enter comma separated numbers: \").split(',')]\n",
    "except ValueError:\n",
    "    print(\"Please enter integers only\")\n",
    "\n",
    "print(f\"List :{sampleList}\")\n",
    "print(f\"Tuples :{tuple(sampleList)}\")"
   ]
  },
  {
   "cell_type": "markdown",
   "metadata": {},
   "source": [
    "3. Write a Python program to display the first and last colors from the following list."
   ]
  },
  {
   "cell_type": "code",
   "execution_count": 3,
   "metadata": {},
   "outputs": [
    {
     "name": "stdout",
     "output_type": "stream",
     "text": [
      "Color List : ['Red', 'Green', 'White', 'Black']\n",
      "First color: Red\n",
      "Last color: Black\n"
     ]
    }
   ],
   "source": [
    "colorList = [\"Red\", \"Green\", \"White\", \"Black\"]\n",
    "print(f\"Color List : {colorList}\")\n",
    "print(f\"First color: {colorList[0]}\")\n",
    "print(f\"Last color: {colorList[-1]}\")"
   ]
  },
  {
   "cell_type": "markdown",
   "metadata": {},
   "source": [
    "4. Write a Python program to print the documents (syntax, description etc.) of Python built-in function(s)."
   ]
  },
  {
   "cell_type": "code",
   "execution_count": 4,
   "metadata": {},
   "outputs": [
    {
     "name": "stdout",
     "output_type": "stream",
     "text": [
      "Return the absolute value of the argument.\n"
     ]
    }
   ],
   "source": [
    "print(abs.__doc__)"
   ]
  },
  {
   "cell_type": "markdown",
   "metadata": {},
   "source": [
    "5. Write a Python program to print the calendar of a given month and year."
   ]
  },
  {
   "cell_type": "code",
   "execution_count": 6,
   "metadata": {},
   "outputs": [
    {
     "name": "stdout",
     "output_type": "stream",
     "text": [
      "Enter the year: 2020\n",
      "Enter the month: 08\n",
      "    August 2020\n",
      "Mo Tu We Th Fr Sa Su\n",
      "                1  2\n",
      " 3  4  5  6  7  8  9\n",
      "10 11 12 13 14 15 16\n",
      "17 18 19 20 21 22 23\n",
      "24 25 26 27 28 29 30\n",
      "31\n",
      "\n"
     ]
    }
   ],
   "source": [
    "import calendar\n",
    "\n",
    "try:\n",
    "    year = int(input(\"Enter the year: \"))\n",
    "    month = int(input(\"Enter the month: \"))\n",
    "except ValueError:\n",
    "    print(\"Please enter integers only\")\n",
    "\n",
    "print(calendar.month(year, month))"
   ]
  },
  {
   "cell_type": "markdown",
   "metadata": {},
   "source": [
    "6. Write a Python program to calculate number of days between two dates."
   ]
  },
  {
   "cell_type": "code",
   "execution_count": 12,
   "metadata": {},
   "outputs": [
    {
     "name": "stdout",
     "output_type": "stream",
     "text": [
      "9 days\n"
     ]
    }
   ],
   "source": [
    "from datetime import date\n",
    "\n",
    "date1 = date(2014,7,2)\n",
    "date2 = date(2014,7,11)\n",
    "difference = date2 - date1\n",
    "print(f\"{difference.days} days\")\n"
   ]
  },
  {
   "cell_type": "markdown",
   "metadata": {},
   "source": [
    "7. Write a Python program to check whether a specified value is contained in a group of values."
   ]
  },
  {
   "cell_type": "code",
   "execution_count": 14,
   "metadata": {},
   "outputs": [
    {
     "name": "stdout",
     "output_type": "stream",
     "text": [
      "3 --> [1, 5, 8, 3] : True\n",
      "4 --> [1, 5, 8, 3] : False\n"
     ]
    }
   ],
   "source": [
    "sampleList = [1, 5, 8, 3]\n",
    "data1 = 3\n",
    "data2 = 4\n",
    "\n",
    "# Method to check present or not\n",
    "def isPresent(data, sampleList):\n",
    "    if data in sampleList:\n",
    "        return True\n",
    "    else:\n",
    "        return False\n",
    "\n",
    "print(f\"{data1} --> {sampleList} : {isPresent(data1, sampleList)}\")\n",
    "print(f\"{data2} --> {sampleList} : {isPresent(data2, sampleList)}\")"
   ]
  },
  {
   "cell_type": "markdown",
   "metadata": {},
   "source": [
    "8. Write a Python program to create a histogram from a given list of integers."
   ]
  },
  {
   "cell_type": "code",
   "execution_count": 17,
   "metadata": {},
   "outputs": [
    {
     "name": "stdout",
     "output_type": "stream",
     "text": [
      "1#\n",
      "5#####\n",
      "8########\n",
      "3###\n"
     ]
    }
   ],
   "source": [
    "sampleList = [1, 5, 8, 3]\n",
    "\n",
    "def plotHistogram(funSampleList):\n",
    "    for number in funSampleList:\n",
    "        symbol = ''\n",
    "        temp = number\n",
    "        while temp>0:\n",
    "            symbol += '#'\n",
    "            temp -= 1           \n",
    "        print(f'{number}{symbol}')\n",
    "\n",
    "plotHistogram(sampleList)"
   ]
  },
  {
   "cell_type": "markdown",
   "metadata": {},
   "source": [
    "9. Write a Python program to concatenate all elements in a list into a string and return it."
   ]
  },
  {
   "cell_type": "code",
   "execution_count": 18,
   "metadata": {},
   "outputs": [
    {
     "name": "stdout",
     "output_type": "stream",
     "text": [
      "Concatenated string: RedGreenWhiteBlack\n"
     ]
    }
   ],
   "source": [
    "sampleList = [\"Red\", \"Green\", \"White\", \"Black\"]\n",
    "newString = ''\n",
    "for element in sampleList:\n",
    "    newString += element\n",
    "print(f\"Concatenated string: {newString}\")"
   ]
  },
  {
   "cell_type": "markdown",
   "metadata": {},
   "source": [
    "10. Write a Python program to print out a set containing all the colors from color_list_1 which are not present in color_list_2."
   ]
  },
  {
   "cell_type": "code",
   "execution_count": 19,
   "metadata": {},
   "outputs": [
    {
     "name": "stdout",
     "output_type": "stream",
     "text": [
      "{'Black', 'Green'}\n"
     ]
    }
   ],
   "source": [
    "colorList_1 = [\"Red\", \"Green\", \"White\", \"Black\"]\n",
    "colorList_2 = [\"Red\", \"Blue\", \"White\"]\n",
    "\n",
    "notPresentColor = set()\n",
    "\n",
    "for color in colorList_1:\n",
    "    if color not in colorList_2:\n",
    "        notPresentColor.add(color)\n",
    "\n",
    "print(notPresentColor)"
   ]
  },
  {
   "cell_type": "markdown",
   "metadata": {},
   "source": [
    "11. Write a Python program to check whether a file exists."
   ]
  },
  {
   "cell_type": "code",
   "execution_count": 34,
   "metadata": {},
   "outputs": [
    {
     "name": "stdout",
     "output_type": "stream",
     "text": [
      "True\n"
     ]
    }
   ],
   "source": [
    "import os.path\n",
    "\n",
    "open('sampleFile.txt', 'w')\n",
    "print(os.path.isfile('sampleFile.txt'))"
   ]
  },
  {
   "cell_type": "markdown",
   "metadata": {},
   "source": [
    "12. Write a python program to call an external command in Python.\n",
    "    - code present in ExternalCommands_12.py"
   ]
  },
  {
   "cell_type": "markdown",
   "metadata": {},
   "source": [
    "13. Write a Python program to find out the number of CPUs using."
   ]
  },
  {
   "cell_type": "code",
   "execution_count": 36,
   "metadata": {},
   "outputs": [
    {
     "name": "stdout",
     "output_type": "stream",
     "text": [
      "4\n"
     ]
    }
   ],
   "source": [
    "import multiprocessing\n",
    "print(multiprocessing.cpu_count())"
   ]
  },
  {
   "cell_type": "markdown",
   "metadata": {},
   "source": [
    "14. Write a Python program to list all files in a directory in Python.\n",
    "    - code present in ListAllFile_14.py"
   ]
  },
  {
   "cell_type": "markdown",
   "metadata": {},
   "source": [
    "15. Write a python program to access environment variables."
   ]
  },
  {
   "cell_type": "code",
   "execution_count": 38,
   "metadata": {},
   "outputs": [
    {
     "name": "stdout",
     "output_type": "stream",
     "text": [
      "All environment variables:\n",
      "environ({'TERM_PROGRAM': 'Apple_Terminal', 'TERM': 'xterm-color', 'SHELL': '/bin/zsh', 'CLICOLOR': '1', 'TMPDIR': '/var/folders/09/j398tv5j2hz6r35vnf19wsbm0000gn/T/', 'CONDA_SHLVL': '1', 'TERM_PROGRAM_VERSION': '433', 'CONDA_PROMPT_MODIFIER': '(base) ', 'TERM_SESSION_ID': '64EB9245-1521-41F3-AE25-880A583A7883', 'USER': 'aamirshahab', 'CONDA_EXE': '/Users/aamirshahab/opt/anaconda3/bin/conda', 'SSH_AUTH_SOCK': '/private/tmp/com.apple.launchd.ARo1Fig0cy/Listeners', '_CE_CONDA': '', 'LSCOLORS': 'ExFxBxDxCxegedabagacad', 'PATH': '/Users/aamirshahab/opt/anaconda3/bin:/Users/aamirshahab/opt/anaconda3/condabin:/Users/aamirshahab/anaconda3/bin:/usr/local/bin:/usr/bin:/bin:/usr/sbin:/sbin:/Library/Apple/usr/bin', 'CONDA_PREFIX': '/Users/aamirshahab/opt/anaconda3', 'PWD': '/Users/aamirshahab', 'XPC_FLAGS': '0x0', 'XPC_SERVICE_NAME': '0', '_CE_M': '', 'HOME': '/Users/aamirshahab', 'SHLVL': '2', 'LOGNAME': 'aamirshahab', 'CONDA_PYTHON_EXE': '/Users/aamirshahab/opt/anaconda3/bin/python', 'LC_CTYPE': 'UTF-8', 'CONDA_DEFAULT_ENV': 'base', '_': '/Users/aamirshahab/opt/anaconda3/bin/jupyter-notebook', 'KERNEL_LAUNCH_TIMEOUT': '40', 'JPY_PARENT_PID': '25233', 'PAGER': 'cat', 'GIT_PAGER': 'cat', 'MPLBACKEND': 'module://ipykernel.pylab.backend_inline'})\n"
     ]
    }
   ],
   "source": [
    "import os\n",
    "\n",
    "print('All environment variables:')\n",
    "print(os.environ)"
   ]
  },
  {
   "cell_type": "markdown",
   "metadata": {},
   "source": [
    "16. Write a Python program to get the current username"
   ]
  },
  {
   "cell_type": "code",
   "execution_count": 41,
   "metadata": {},
   "outputs": [
    {
     "name": "stdout",
     "output_type": "stream",
     "text": [
      "Current User: aamirshahab\n"
     ]
    }
   ],
   "source": [
    "import getpass\n",
    "\n",
    "print(f\"Current User: {getpass.getuser()}\")"
   ]
  },
  {
   "cell_type": "markdown",
   "metadata": {},
   "source": [
    "17. Write a program to get execution time for a Python method."
   ]
  },
  {
   "cell_type": "code",
   "execution_count": 42,
   "metadata": {},
   "outputs": [
    {
     "name": "stdout",
     "output_type": "stream",
     "text": [
      "Square: [1, 4, 9, 16, 25]\n",
      "Execution Time: 4.0531158447265625e-06\n"
     ]
    }
   ],
   "source": [
    "import time\n",
    "\n",
    "def squareNum(numList):\n",
    "    startTime = time.time()\n",
    "    square = []\n",
    "    for num in numList:\n",
    "        square.append(num**2)\n",
    "    endTime = time.time()\n",
    "    return square,(endTime-startTime)\n",
    "\n",
    "sampleList = [1,2,3,4,5]\n",
    "result = squareNum(sampleList)\n",
    "print(f\"Square: {result[0]}\")\n",
    "print(f\"Execution Time: {result[1]}\")"
   ]
  },
  {
   "cell_type": "markdown",
   "metadata": {},
   "source": [
    "18. Write a Python program to get an absolute file path."
   ]
  },
  {
   "cell_type": "code",
   "execution_count": 43,
   "metadata": {},
   "outputs": [
    {
     "name": "stdout",
     "output_type": "stream",
     "text": [
      "Absolute path: /Users/aamirshahab/Desktop/BridgeLabz/FellowShip/Python Programs/sampleFile.txt\n"
     ]
    }
   ],
   "source": [
    "import os\n",
    "\n",
    "print(f\"Absolute path: {os.path.abspath('sampleFile.txt')}\")"
   ]
  },
  {
   "cell_type": "markdown",
   "metadata": {},
   "source": [
    "19. Write a Python program to get file creation and modification date/times."
   ]
  },
  {
   "cell_type": "code",
   "execution_count": 45,
   "metadata": {},
   "outputs": [
    {
     "name": "stdout",
     "output_type": "stream",
     "text": [
      "Created: Sat Aug 29 22:38:24 2020\n",
      "Last modified: Sat Aug 29 22:38:24 2020\n"
     ]
    }
   ],
   "source": [
    "import os\n",
    "import time\n",
    "\n",
    "print(f\"Created: {time.ctime(os.path.getctime('sampleFile.txt'))}\")\n",
    "print(f\"Last modified: {time.ctime(os.path.getmtime('sampleFile.txt'))}\")"
   ]
  },
  {
   "cell_type": "markdown",
   "metadata": {},
   "source": [
    "20. Write a Python program to sort three integers without using conditional statements and loops."
   ]
  },
  {
   "cell_type": "code",
   "execution_count": 49,
   "metadata": {},
   "outputs": [
    {
     "name": "stdout",
     "output_type": "stream",
     "text": [
      "Enter first number: 33\n",
      "Enter second number: 44\n",
      "Enter third number: 10\n",
      "Numbers in sorted order: 10, 33, 44\n"
     ]
    }
   ],
   "source": [
    "try:\n",
    "    num1 = int(input(\"Enter first number: \"))\n",
    "    num2 = int(input(\"Enter second number: \"))\n",
    "    num3 = int(input(\"Enter third number: \"))\n",
    "except ValueError:\n",
    "    print(\"Please enter integer value only.\")\n",
    "\n",
    "minimum = min(num1, num2, num3)\n",
    "maximum = max(num1, num2, num3)\n",
    "middle = (num1 + num2 + num3) - minimum - maximum\n",
    "print(f\"Numbers in sorted order: {minimum}, {middle}, {maximum}\")"
   ]
  },
  {
   "cell_type": "markdown",
   "metadata": {},
   "source": [
    "21. Write a Python program to sort files by date."
   ]
  },
  {
   "cell_type": "code",
   "execution_count": null,
   "metadata": {},
   "outputs": [],
   "source": []
  },
  {
   "cell_type": "markdown",
   "metadata": {},
   "source": [
    "22. Write a Python program to get the command-line arguments (name of the script, the number of arguments, arguments) passed to a script.\n",
    "    - code present in CommandLineArg_22.py"
   ]
  },
  {
   "cell_type": "markdown",
   "metadata": {},
   "source": [
    "23. Write a Python program to find the available built-in modules."
   ]
  },
  {
   "cell_type": "code",
   "execution_count": 55,
   "metadata": {},
   "outputs": [
    {
     "name": "stdout",
     "output_type": "stream",
     "text": [
      "Modules are:- \n",
      "_abc, _ast, _codecs, _collections, _functools, _imp, _io, _locale, _operator, _signal, _sre, _stat, _string, _symtable, _thread, _tracemalloc, _warnings, _weakref, atexit, builtins, errno, faulthandler, gc, itertools, marshal, posix, pwd, sys, time, xxsubtype, zipimport\n"
     ]
    }
   ],
   "source": [
    "import sys\n",
    "\n",
    "moduleNames = ', '.join(sorted(sys.builtin_module_names))\n",
    "print(f\"Modules are:- \\n{moduleNames}\")"
   ]
  },
  {
   "cell_type": "markdown",
   "metadata": {},
   "source": [
    "24. Write a Python program to get the size of an object in bytes."
   ]
  },
  {
   "cell_type": "code",
   "execution_count": 57,
   "metadata": {},
   "outputs": [
    {
     "name": "stdout",
     "output_type": "stream",
     "text": [
      "123 has memory size: 28\n",
      "abc has memory size: 52\n",
      "123.45 has memory size: 24\n",
      "True has memory size: 28\n"
     ]
    }
   ],
   "source": [
    "import sys\n",
    "\n",
    "number = 123\n",
    "string = \"abc\"\n",
    "decimal = 123.45\n",
    "boolean = True\n",
    "\n",
    "print(f\"{number} has memory size: {sys.getsizeof(number)}\")\n",
    "print(f\"{string} has memory size: {sys.getsizeof(string)}\")\n",
    "print(f\"{decimal} has memory size: {sys.getsizeof(decimal)}\")\n",
    "print(f\"{boolean} has memory size: {sys.getsizeof(boolean)}\")"
   ]
  },
  {
   "cell_type": "markdown",
   "metadata": {},
   "source": [
    "25. Write a Python program to get the current value of the recursion limit."
   ]
  },
  {
   "cell_type": "code",
   "execution_count": 58,
   "metadata": {},
   "outputs": [
    {
     "name": "stdout",
     "output_type": "stream",
     "text": [
      "Current value of recursion limit: 3000\n"
     ]
    }
   ],
   "source": [
    "import sys\n",
    "\n",
    "print(f\"Current value of recursion limit: {sys.getrecursionlimit()}\")"
   ]
  },
  {
   "cell_type": "markdown",
   "metadata": {},
   "source": [
    "26. Write a Python program to count the number occurrence of a specific character in a string."
   ]
  },
  {
   "cell_type": "code",
   "execution_count": 59,
   "metadata": {},
   "outputs": [
    {
     "name": "stdout",
     "output_type": "stream",
     "text": [
      "Count of c in abccdscec: 4\n"
     ]
    }
   ],
   "source": [
    "sampleString = 'abccdscec'\n",
    "character = 'c'\n",
    "print(f\"Count of {character} in {sampleString}: {sampleString.count(character)}\")"
   ]
  },
  {
   "cell_type": "markdown",
   "metadata": {},
   "source": [
    "27. Write a Python program to get the system time."
   ]
  },
  {
   "cell_type": "code",
   "execution_count": 61,
   "metadata": {},
   "outputs": [
    {
     "name": "stdout",
     "output_type": "stream",
     "text": [
      "Current system time: Sat Aug 29 23:37:11 2020\n"
     ]
    }
   ],
   "source": [
    "import time\n",
    "\n",
    "print(f\"Current system time: {time.ctime()}\")"
   ]
  },
  {
   "cell_type": "markdown",
   "metadata": {},
   "source": [
    "28. Write a Python program to clear the screen or terminal\n",
    "    - code in file ClearScreen_28.py"
   ]
  },
  {
   "cell_type": "markdown",
   "metadata": {},
   "source": [
    "29. Write a Python program to get the name of the host on which the routine is running."
   ]
  },
  {
   "cell_type": "code",
   "execution_count": 62,
   "metadata": {},
   "outputs": [
    {
     "name": "stdout",
     "output_type": "stream",
     "text": [
      "Host Name : Aamir-MacBook.local\n"
     ]
    }
   ],
   "source": [
    "import socket\n",
    "\n",
    "hostName = socket.gethostname()\n",
    "print(f\"Host Name : {hostName}\")"
   ]
  },
  {
   "cell_type": "markdown",
   "metadata": {},
   "source": [
    "30. Write a Python program to access and print a URL's content to the console."
   ]
  },
  {
   "cell_type": "code",
   "execution_count": 63,
   "metadata": {},
   "outputs": [
    {
     "name": "stdout",
     "output_type": "stream",
     "text": [
      "b'<HTML><HEAD><meta http-equiv=\"content-type\" content=\"text/html;charset=utf-8\">\\n<TITLE>301 Moved</TITLE></HEAD><BODY>\\n<H1>301 Moved</H1>\\nThe document has moved\\n<A HREF=\"http://www.google.com/\">here</A>.\\r\\n</BODY></HTML>\\r\\n'\n"
     ]
    }
   ],
   "source": [
    "from http.client import HTTPConnection\n",
    "\n",
    "conn = HTTPConnection(\"google.com\")\n",
    "conn.request(\"GET\", \"/\")\n",
    "result = conn.getresponse() # get response from the server\n",
    "content = result.read()\n",
    "print(content)"
   ]
  },
  {
   "cell_type": "markdown",
   "metadata": {},
   "source": [
    "32. Write a Python program to get the effective group id, effective user id, real group id, a list of supplemental group ids associated with the current process."
   ]
  },
  {
   "cell_type": "code",
   "execution_count": 65,
   "metadata": {},
   "outputs": [
    {
     "name": "stdout",
     "output_type": "stream",
     "text": [
      "Effective Group id: 20\n",
      "Effective User id: 501\n",
      "Real Group id: 20\n",
      "Supplemental Group Id: [20, 12, 61, 79, 80, 81, 98, 701, 33, 100, 204, 250, 395, 398, 399, 400]\n"
     ]
    }
   ],
   "source": [
    "import os\n",
    "\n",
    "print(f\"Effective Group id: {os.getegid()}\")\n",
    "print(f\"Effective User id: {os.geteuid()}\")\n",
    "print(f\"Real Group id: {os.getgid()}\")\n",
    "print(f\"Supplemental Group Id: {os.getgroups()}\")"
   ]
  },
  {
   "cell_type": "markdown",
   "metadata": {},
   "source": [
    "33. Write a Python program to get the users environment."
   ]
  },
  {
   "cell_type": "code",
   "execution_count": 66,
   "metadata": {},
   "outputs": [
    {
     "name": "stdout",
     "output_type": "stream",
     "text": [
      "All environment variables:\n",
      "aamirshahab\n"
     ]
    }
   ],
   "source": [
    "import os\n",
    "\n",
    "print('All environment variables:')\n",
    "print(os.environ['USER'])"
   ]
  },
  {
   "cell_type": "markdown",
   "metadata": {},
   "source": [
    "34. Write a Python program to retrieve file properties."
   ]
  },
  {
   "cell_type": "code",
   "execution_count": 72,
   "metadata": {},
   "outputs": [
    {
     "name": "stdout",
     "output_type": "stream",
     "text": [
      "File         : sampleFile.txt\n",
      "Access time  : Sat Aug 29 22:28:30 2020\n",
      "Modified time: Sat Aug 29 22:38:24 2020\n",
      "Change time  : Sat Aug 29 22:38:24 2020\n",
      "Size         : 0\n"
     ]
    }
   ],
   "source": [
    "import os.path\n",
    "import time\n",
    "\n",
    "print(f\"File         : sampleFile.txt\")\n",
    "print(f\"Access time  : {time.ctime(os.path.getatime('sampleFile.txt'))}\")\n",
    "print(f\"Modified time: {time.ctime(os.path.getmtime('sampleFile.txt'))}\")\n",
    "print(f\"Change time  : {time.ctime(os.path.getctime('sampleFile.txt'))}\")\n",
    "print(f\"Size         : {os.path.getsize('sampleFile.txt')}\")"
   ]
  },
  {
   "cell_type": "markdown",
   "metadata": {},
   "source": [
    "35. Write a Python program to get numbers divisible by fifteen from a list using an anonymous function."
   ]
  },
  {
   "cell_type": "code",
   "execution_count": 73,
   "metadata": {},
   "outputs": [
    {
     "name": "stdout",
     "output_type": "stream",
     "text": [
      "Divisible by 15: [30, 45, 75]\n"
     ]
    }
   ],
   "source": [
    "sampleList = [20, 40, 30, 45, 200, 32, 75]\n",
    "\n",
    "result = list(filter(lambda x: x%15 == 0, sampleList))\n",
    "print(f\"Divisible by 15: {result}\")"
   ]
  },
  {
   "cell_type": "markdown",
   "metadata": {},
   "source": [
    "36. Write a Python program to determine if variable is defined or not."
   ]
  },
  {
   "cell_type": "code",
   "execution_count": 74,
   "metadata": {},
   "outputs": [
    {
     "name": "stdout",
     "output_type": "stream",
     "text": [
      "Variable is defined.\n",
      "Variable is not defined.\n"
     ]
    }
   ],
   "source": [
    "try:\n",
    "    sampleVariable = 23\n",
    "except NameError:\n",
    "    print(\"Variable is not defined.\")\n",
    "else:\n",
    "    print(\"Variable is defined.\")\n",
    "\n",
    "try:\n",
    "    sampleVariable1\n",
    "except NameError:\n",
    "    print(\"Variable is not defined.\")\n",
    "else:\n",
    "    print(\"Variable is defined.\")"
   ]
  },
  {
   "cell_type": "markdown",
   "metadata": {},
   "source": [
    "37. Write a Python program to empty a variable without destroying it."
   ]
  },
  {
   "cell_type": "code",
   "execution_count": 75,
   "metadata": {},
   "outputs": [
    {
     "name": "stdout",
     "output_type": "stream",
     "text": [
      "0\n",
      "{}\n",
      "[]\n",
      "()\n"
     ]
    }
   ],
   "source": [
    "number = 20\n",
    "dictionary = {\"x\":200}\n",
    "list1 = [1,3,5]\n",
    "tuple1= (5,7,8)\n",
    "\n",
    "print(type(number)())\n",
    "print(type(dictionary)())\n",
    "print(type(list1)())\n",
    "print(type(tuple1)()) "
   ]
  },
  {
   "cell_type": "markdown",
   "metadata": {},
   "source": [
    "38. Write a Python program to add leading zeroes to a string."
   ]
  },
  {
   "cell_type": "code",
   "execution_count": 77,
   "metadata": {},
   "outputs": [
    {
     "name": "stdout",
     "output_type": "stream",
     "text": [
      "00abc\n"
     ]
    }
   ],
   "source": [
    "sampleString = 'abc'\n",
    "\n",
    "# adding leading zeros\n",
    "sampleString = sampleString.rjust(5,'0')\n",
    "print(sampleString)"
   ]
  },
  {
   "cell_type": "markdown",
   "metadata": {},
   "source": [
    "40. Write a Python program to extract single key-value pair of a dictionary in variables."
   ]
  },
  {
   "cell_type": "code",
   "execution_count": 79,
   "metadata": {},
   "outputs": [
    {
     "name": "stdout",
     "output_type": "stream",
     "text": [
      "(1, 'a')\n",
      "(2, 'b')\n",
      "(3, 'c')\n",
      "(4, 'd')\n"
     ]
    }
   ],
   "source": [
    "sampleDict = {1:'a', 2:'b', 3:'c', 4:'d'}\n",
    "\n",
    "for key, value in sampleDict.items():\n",
    "    unpack = (key, value)\n",
    "    print(unpack)"
   ]
  },
  {
   "cell_type": "markdown",
   "metadata": {},
   "source": [
    "41. Write a Python program to convert an integer to binary keep leading zeros."
   ]
  },
  {
   "cell_type": "code",
   "execution_count": 16,
   "metadata": {},
   "outputs": [
    {
     "name": "stdout",
     "output_type": "stream",
     "text": [
      "Binary of 12 : 00001100\n"
     ]
    }
   ],
   "source": [
    "number = 12\n",
    "\n",
    "print(f\"Binary of {number} : {number:08b}\")"
   ]
  },
  {
   "cell_type": "markdown",
   "metadata": {},
   "source": [
    "42. Write a Python program to determine if the python shell is executing in 32bit or 64bit mode on operating system."
   ]
  },
  {
   "cell_type": "code",
   "execution_count": 12,
   "metadata": {},
   "outputs": [
    {
     "name": "stdout",
     "output_type": "stream",
     "text": [
      "64\n"
     ]
    }
   ],
   "source": [
    "import struct\n",
    "\n",
    "print(struct.calcsize(\"P\") * 8)"
   ]
  },
  {
   "cell_type": "markdown",
   "metadata": {},
   "source": [
    "43. Write a Python function to find the maximum and minimum numbers from a sequence of numbers."
   ]
  },
  {
   "cell_type": "code",
   "execution_count": 14,
   "metadata": {},
   "outputs": [
    {
     "name": "stdout",
     "output_type": "stream",
     "text": [
      "Maximum : 200 and Minimum : 20\n"
     ]
    }
   ],
   "source": [
    "sampleList = [20, 40, 30, 45, 200, 32, 75]\n",
    "\n",
    "maximum = sampleList[0]\n",
    "minimum = sampleList[0]\n",
    "\n",
    "for element in sampleList:\n",
    "    if element > maximum:\n",
    "        maximum = element\n",
    "    elif element < minimum:\n",
    "        minimum = element\n",
    "\n",
    "print(f\"Maximum : {maximum} and Minimum : {minimum}\")"
   ]
  },
  {
   "cell_type": "code",
   "execution_count": null,
   "metadata": {},
   "outputs": [],
   "source": []
  }
 ],
 "metadata": {
  "kernelspec": {
   "display_name": "Python 3",
   "language": "python",
   "name": "python3"
  },
  "language_info": {
   "codemirror_mode": {
    "name": "ipython",
    "version": 3
   },
   "file_extension": ".py",
   "mimetype": "text/x-python",
   "name": "python",
   "nbconvert_exporter": "python",
   "pygments_lexer": "ipython3",
   "version": "3.7.4"
  }
 },
 "nbformat": 4,
 "nbformat_minor": 4
}
